{
 "cells": [
  {
   "cell_type": "code",
   "execution_count": 1,
   "id": "18c89f32-c3fa-43a3-9895-2e0b7eb026c9",
   "metadata": {},
   "outputs": [],
   "source": [
    "from eft_likelihood.eft_likelihood import *"
   ]
  },
  {
   "cell_type": "code",
   "execution_count": 2,
   "id": "1d336550-7dfa-4370-add4-fda5f325a570",
   "metadata": {},
   "outputs": [],
   "source": [
    "eft_poisson = EFTPoisson(poly=Polynomial('x', [0, 1, 0], 2), param='k')"
   ]
  },
  {
   "cell_type": "code",
   "execution_count": 3,
   "id": "c0c775af-c32c-49ff-b4ac-518bb941889f",
   "metadata": {},
   "outputs": [
    {
     "name": "stdout",
     "output_type": "stream",
     "text": [
      "(((((0 * (x^2)) + (1 * (x^1))) + (0 * (x^0)))^k) * (e^(-1 * (((0 * (x^2)) + (1 * (x^1))) + (0 * (x^0)))) / k!))\n"
     ]
    }
   ],
   "source": [
    "print(eft_poisson)"
   ]
  },
  {
   "cell_type": "code",
   "execution_count": 4,
   "id": "47215052-949e-48ad-8011-17d86622e117",
   "metadata": {},
   "outputs": [
    {
     "data": {
      "text/plain": [
       "0.039860996809147134"
      ]
     },
     "execution_count": 4,
     "metadata": {},
     "output_type": "execute_result"
    }
   ],
   "source": [
    "eft_poisson.eval(x_in=100, k_in=100).value()"
   ]
  },
  {
   "cell_type": "code",
   "execution_count": 5,
   "id": "36435946-c033-4c25-bafc-2202dd387501",
   "metadata": {},
   "outputs": [
    {
     "name": "stdout",
     "output_type": "stream",
     "text": [
      "minimum at 100.0 +/- 10.0\n"
     ]
    }
   ],
   "source": [
    "likelihood = LogLikelihood(eft_poisson)\n",
    "minimum, min_err = likelihood.minimize_nll('x', 100, k_in=100, nll_sigma=0.5, rate=1e-2, temperature=None, doError=True, doHess=True, debug=False)\n",
    "print('minimum at', minimum, '+/-', min_err)"
   ]
  }
 ],
 "metadata": {
  "kernelspec": {
   "display_name": "Python 3 (ipykernel)",
   "language": "python",
   "name": "python3"
  },
  "language_info": {
   "codemirror_mode": {
    "name": "ipython",
    "version": 3
   },
   "file_extension": ".py",
   "mimetype": "text/x-python",
   "name": "python",
   "nbconvert_exporter": "python",
   "pygments_lexer": "ipython3",
   "version": "3.7.12"
  }
 },
 "nbformat": 4,
 "nbformat_minor": 5
}
